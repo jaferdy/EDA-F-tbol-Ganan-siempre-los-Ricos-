{
 "cells": [
  {
   "attachments": {},
   "cell_type": "markdown",
   "metadata": {},
   "source": [
    "# INFORMACIÓN DEL PROYECTO"
   ]
  },
  {
   "attachments": {},
   "cell_type": "markdown",
   "metadata": {},
   "source": [
    "### TÍTULO"
   ]
  },
  {
   "attachments": {},
   "cell_type": "markdown",
   "metadata": {},
   "source": [
    "# Fútbol: ¿Ganan siempre los 'Ricos'?"
   ]
  },
  {
   "attachments": {},
   "cell_type": "markdown",
   "metadata": {},
   "source": [
    "### Tema\n",
    "\n",
    "Se realizará un análisis sobre el impacto que tiene el valor de mercado de los equipos en los resultados. Para la realización del análisis se tendrá en cuenta los datos obtenidos de todos los partidos transcurridos en las cinco mejores ligas europeas (La liga, Premier League, Bundesliga, Serie A y Ligue 1) de las temporadas 2014 hasta la 2022, de manera que se analizarán más de 10.000 resultados.\n",
    "De forma adicional, también se analizará si las cuota más baja aportadas por las casas de apuestas ha coincidido con el resultado final del partido. Además, se analizará si, por lo general, el resultado del descanso es igual que el resultado final.\n"
   ]
  },
  {
   "attachments": {},
   "cell_type": "markdown",
   "metadata": {},
   "source": [
    "### HIPÓTESIS"
   ]
  },
  {
   "attachments": {},
   "cell_type": "markdown",
   "metadata": {},
   "source": [
    "Define aquí lo que será la hipótesis de tu proyecto.\n",
    "Deberás tener más de una, pero tu proyecto lo harás teniendo una principal hipótesis."
   ]
  },
  {
   "attachments": {},
   "cell_type": "markdown",
   "metadata": {},
   "source": [
    "Hipotesis 1 = El equipo con mayor valor de mercado gana el partido\n",
    "\n",
    "Hipotesis 2 = El resultado del partido coincidirá con la cuota de menor importe aportada por las casas de apuestas.\n",
    "\n",
    "Hipotesis 3 = El resultado del partido al descanso coincidirá con el resultado final."
   ]
  },
  {
   "attachments": {},
   "cell_type": "markdown",
   "metadata": {},
   "source": [
    "## OBTENCIÓN DE LOS DATOS"
   ]
  },
  {
   "attachments": {},
   "cell_type": "markdown",
   "metadata": {},
   "source": [
    "### DATASETS Y FUENTES ALTERNATIVAS DE DATOS"
   ]
  },
  {
   "cell_type": "code",
   "execution_count": 5,
   "metadata": {},
   "outputs": [],
   "source": [
    "import pandas as pd\n",
    "# guarda en variables los datasets y su fuente\n",
    "df_1 = pd.DataFrame()\n",
    "fuente_1 = \"https://www.kaggle.com/datasets/ferrariboy4k/top5leagues\"\n",
    "\n",
    "archivo_laliga14_15 = \"all_seasons\\LaLiga 2014-2015.csv\""
   ]
  },
  {
   "attachments": {},
   "cell_type": "markdown",
   "metadata": {},
   "source": [
    "Para realizar el DataFrame final se han desarrollado varias funciones que permiten limpiar el Dataframe, que aportan nuevas columnas con información que nos permitirán aplicar diversas máscaras o sacar la media de victorias cuando un equipo es considerado favorito, entre otras. A continuación, se incluyen algunas de las funciones a modo de ejemplo:"
   ]
  },
  {
   "cell_type": "code",
   "execution_count": null,
   "metadata": {},
   "outputs": [],
   "source": [
    "def cambio_nombre_columnas(csv):\n",
    "    '''\n",
    "    Esta función nos servirá para leer los csv del proyecto y para cambiar el nombre de sus columnas para finalmente transformar \n",
    "    todos los datos en un DataFrame. De esta forma, tendremos más clara la información que contiene cada columnas.\n",
    "\n",
    "    En el parámetro csv tendremos que indicar la ruta del fichero que queremos transformar en un nuevo DataFrame.\n",
    "\n",
    "    Todos los ficheros csv del trabajo disponen del mismo número de columnas y siguen el mismo orden, por lo que podemos encapsular \n",
    "    el código en una función.\n",
    "    '''\n",
    "    df = pd.read_csv(csv)\n",
    "    nombres_columnas = {'Div': \"Liga\",\n",
    "                    'Date': \"Fecha\",\n",
    "                    'HomeTeam' : \"Equipo Local\",\n",
    "                    'AwayTeam' : \"Equipo Visitante\",\n",
    "                    'HTOa' : \"Calificación E.Local en FIFA\",\n",
    "                    'ATOa' : \"Calificación E.Visitante en FIFA\",\n",
    "                    'HTAt': \"Calificación atacantes E.Local en FIFA\",\n",
    "                    'ATAt': \"Calificación atacantes E.Visitante en FIFA\",\n",
    "                    'HTMid': \"Calificación mediocentros E.Local en FIFA\",\n",
    "                    'ATMid': \"Calificación mediocentros E.Visitante en FIFA\",\n",
    "                    'HTDef' : \"Calificación defensas E.Local en FIFA\",\n",
    "                    'ATDef': \"Calificación defensas E.Visitante en FIFA\",\n",
    "                    'HomeSquad': \"Nº jugadores E.Local\",\n",
    "                    'AwaySquad': \"Nº jugadores E.Visitante\",\n",
    "                    'HomeAvgAge' : \"Edad media E.Local\",\n",
    "                    'AwayAvgAge': \"Edad media E.Visitante\",\n",
    "                    'HomeMV' : \"Valor de mercado E.Local\",\n",
    "                    'AwayMV': \"Valor de mercado E.Visitante\",\n",
    "                    'FTHG' : \"Goles en el partido E.Local\",\n",
    "                    'FTAG': \"Goles en el partido E.Visitante\",\n",
    "                    'FTR': \"Resultado final\",\n",
    "                    'HTHG' : \"Goles al descanso E.Local\",\n",
    "                    'HTAG': \"Goles al descanso E.Visitante\",\n",
    "                    'HTR': \"Resultado al descanso\",\n",
    "                    'HS' : \"Disparos E.Local\",\n",
    "                    'AS': \"Disparos E.Visitante\",\n",
    "                    'HST': \"Disparos a puerta E.Local\",\n",
    "                    'AST' : \"Disparos a puerta E.Visitante\",\n",
    "                    'HF' : \"Faltas E.Local\",\n",
    "                    'AF': \"Faltas E.Visitante\",\n",
    "                    'HC' : \"Corners E.Local\",\n",
    "                    'AC' : \"Corners E.Visitante\",\n",
    "                    'HY' : \"T.Amarillas E.Local\",\n",
    "                    'AY': \"T.Amarillas E.Visitante\",\n",
    "                    'HR': \"T.Rojas E.Local\",\n",
    "                    'AR' : \"T.Rojas E.Visitante\",\n",
    "                    'HxG' : \"Goles esperados E.Local\",\n",
    "                    'AxG' : \"Goles esperados E.Visitante\",\n",
    "                    'HxA' : \"Goles esperados tras pases clave E.Local\",\n",
    "                    'AxA' : \"Goles esperados tras pases clave E.Visitante\",\n",
    "                    'HxPTS' : \"Puntos esperados E.Local\",\n",
    "                    'AxPTS': \"Puntos esperados E.Visitante\",\n",
    "                    'HPPDA': \"Pases permitidos por acción defensiva en campo contrario E.Local\",\n",
    "                    'APPDA' : \"Pases permitidos por acción defensiva en campo contrario E.Visitante\",\n",
    "                    'B365H' : \"Cuota Bet365 Gana Local\",\n",
    "                    'B365D' : \"Cuota Bet365 Empate\",\n",
    "                    'B365A' : \"Cuota Bet365 Gana Visitante\",\n",
    "                    'BWH' :\"Cuota BWin Gana Local\",\n",
    "                    'BWD' : \"Cuota BWin Empate\",\n",
    "                    'BWA': \"Cuota BWin Gana Visitante\",\n",
    "                    'IWH':\"Cuota Interwetten Gana Local\",\n",
    "                    'IWD': \"Cuota Interwetten Empate\",\n",
    "                    'IWA': \"Cuota Interwetten Gana Visitante\",\n",
    "                    'PSH':\"Cuota Pinnacle Gana Local\",\n",
    "                    'PSD' : \"Cuota Pinnacle Empate\",\n",
    "                    'PSA': \"Cuota Pinnacle Gana Visitante\",\n",
    "                    'WHH': \"Cuota William Hill Gana Local\",\n",
    "                    'WHD': \"Cuota William Hill Empate\",\n",
    "                    'WHA': \"Cuota William Hill Gana Visitante\",\n",
    "                    'VCH':\"Cuota VC Bet Gana Local\",\n",
    "                    'VCD': \"Cuota VC Bet Empate\",\n",
    "                    'VCA': \"Cuota VC Bet Gana Visitante\",\n",
    "                    'PSCH':\"Cuota PSC Gana Local\",\n",
    "                    'PSCD': \"Cuota PSC Empate\",\n",
    "                    'PSCA': \"Cuota PSC Gana Visitante\"}\n",
    "    df = df.rename(columns=nombres_columnas)\n",
    "    return df"
   ]
  },
  {
   "cell_type": "code",
   "execution_count": null,
   "metadata": {},
   "outputs": [],
   "source": [
    "def col_rdo_valor_mercado(df):\n",
    "    '''\n",
    "    En esta función añadimos en una nueva columna el nombre del equipo con mayor valor de mercado.\n",
    "    '''\n",
    "    a = []\n",
    "    for i in range(len(df)):\n",
    "        if df[\"Valor de mercado E.Local\"].iloc[i] > df[\"Valor de mercado E.Visitante\"].iloc[i]:\n",
    "            a.append(df[\"Equipo Local\"].iloc[i])\n",
    "        else:\n",
    "            a.append(df[\"Equipo Visitante\"].iloc[i])\n",
    "\n",
    "    a = [str(x) for x in a]\n",
    "    df[\"Rdo V.Mercado\"]= a\n",
    "    return df"
   ]
  },
  {
   "cell_type": "code",
   "execution_count": null,
   "metadata": {},
   "outputs": [],
   "source": [
    "def col_favorito_ganador(df):\n",
    "    '''\n",
    "    En esta función añadimos una nueva columna, llamada \"Gana favorito\" en la que se mostrará el valor de 1 si el equipo de mayor \n",
    "    valor de mercado es el que ha ganado y 0 si no se da esa situación.\n",
    "    '''\n",
    "    c = []\n",
    "    for i in range(len(df)):\n",
    "        if df[\"Rdo V.Mercado\"].iloc[i] == df[\"Equipo ganador\"].iloc[i]:\n",
    "            c.append(1)\n",
    "        else:\n",
    "            c.append(0)\n",
    "    df[\"Gana favorito\"] = c\n",
    "    return df"
   ]
  },
  {
   "cell_type": "code",
   "execution_count": null,
   "metadata": {},
   "outputs": [],
   "source": [
    "def col_dif_v_mercado(df):\n",
    "    '''\n",
    "    En esta función creamos una columna en el que se muestra la variación del valor de mercado entre el equipo con mayor valor del \n",
    "    partido respecto al de menor valor.\n",
    "\n",
    "    La fórmula aplicada para cada valor de la columna es el siguiente:\n",
    "\n",
    "    Diferencia V.Mercado = (V.Mercado Eq. de mayor valor/V.Mercado Eq. de menor valor) / V.Mercado Eq. de menor valor\n",
    "\n",
    "    Con esta columna podremos crear máscaras, por ejemplo, obtener si gana el favorito del partido cuando el valor de mercado entre un equipo \n",
    "    y otro es superior al 30%, es decir, > 0.3.\n",
    "    \n",
    "    '''\n",
    "    d = []\n",
    "    for i in range(len(df)):\n",
    "        d1 = [df[\"Valor de mercado E.Local\"].iloc[i], df[\"Valor de mercado E.Visitante\"].iloc[i]]\n",
    "        d.append((max(d1) - min(d1)) / min(d1))\n",
    "    df[\"Diferencia V.Mercado\"] = d\n",
    "    return df"
   ]
  },
  {
   "cell_type": "code",
   "execution_count": null,
   "metadata": {},
   "outputs": [],
   "source": [
    "def cols_apuestas(df):\n",
    "    '''\n",
    "    Esta función servirá para crear varias columnas ligadas a las cuotas de las distintas casas de apuestas.\n",
    "\n",
    "    En primer lugar, se creará una columna por cada casa de apuestas llamada [\"Lista cuotas \"x\"] en las que aparecerá la cuota mínima, máxima e intermedia en formato de lista.\n",
    "\n",
    "    En segundo lugar, se creará una columna por cada casa de apuestas llamada [\"Cuota favorita \"x\"] en las que aparecerá el nombre del equipo favorito según la cuota.\n",
    "    En caso de empate, se mostrá empate. También se creará una columna llamada [\"Importe Cuota favorita x\"] con el importe de la cuota favorita para la casa de apuestas.\n",
    "    Esta última columna nos permitirá aplicar máscaras a los Dataframe para el análisis.\n",
    "\n",
    "    Por último, se creará una columna por cada casa de apuestas llamada [\"Gana cuota favorita x\"] en las que aparecerá un 1 si el ganador del partido coincide con \n",
    "    el equipo favorito de la casa de apuestas. En caso contrario, se añadirá un 0.\n",
    "    \n",
    "    '''\n",
    "    e = []\n",
    "    for i in range(len(df)):\n",
    "        e1 = [df[\"Cuota Bet365 Gana Local\"].iloc[i], df[\"Cuota Bet365 Empate\"].iloc[i],df[\"Cuota Bet365 Gana Visitante\"].iloc[i]]\n",
    "        e.append(e1)\n",
    "    df[\"Lista cuotas Bet365\"] = e\n",
    "    f = []\n",
    "    f1 = []\n",
    "\n",
    "    for i in range(len(df)):\n",
    "        cuotas = df[\"Lista cuotas Bet365\"][i]\n",
    "        min_cuota = min(cuotas)\n",
    "        if cuotas.index(min_cuota) == 0:\n",
    "            f.append(df[\"Equipo Local\"].iloc[i])\n",
    "        elif cuotas.index(min_cuota) == 2:\n",
    "            f.append(df[\"Equipo Visitante\"].iloc[i])\n",
    "        else:\n",
    "            f.append(\"Empate\")\n",
    "        f1.append(min_cuota)\n",
    "    df[\"Cuota favorita Bet365\"] = f\n",
    "    df[\"Importe Cuota favorita Bet365\"] = f1\n",
    "\n",
    "    g = []\n",
    "   \n",
    "    for i in range(len(df)):\n",
    "        if df[\"Equipo ganador\"].iloc[i] == df[\"Cuota favorita Bet365\"].iloc[i]:\n",
    "            g.append(1)\n",
    "        else:\n",
    "            g.append(0)\n",
    "    df[\"Gana cuota favorita Bet365\"] = g\n",
    "    return df"
   ]
  },
  {
   "attachments": {},
   "cell_type": "markdown",
   "metadata": {},
   "source": [
    "El resto de pasos se resumen en obtener nuevos DataFrame filtrados para tratar cada analítica por separado."
   ]
  },
  {
   "attachments": {},
   "cell_type": "markdown",
   "metadata": {},
   "source": [
    "Para la validación de la hipótesis se han creado columnas que indican si la situación a estudiar se ha dado o no, indicando 1 si así ha sido o 0 si no ha ocurrido. Se han usado máscaras y realizado funciones de Pandas como groupby, para obtener valores como la media, mediana, etcétera. También se han creado distintas gráficas para visualizar los datos."
   ]
  }
 ],
 "metadata": {
  "kernelspec": {
   "display_name": "Python 3.7.4 64-bit",
   "language": "python",
   "name": "python3"
  },
  "language_info": {
   "codemirror_mode": {
    "name": "ipython",
    "version": 3
   },
   "file_extension": ".py",
   "mimetype": "text/x-python",
   "name": "python",
   "nbconvert_exporter": "python",
   "pygments_lexer": "ipython3",
   "version": "3.10.11"
  },
  "orig_nbformat": 4,
  "vscode": {
   "interpreter": {
    "hash": "90139cb9a825bf3d63f6f6704e828dbd1ff7edbd4d0c6e906a71235d6efc74af"
   }
  }
 },
 "nbformat": 4,
 "nbformat_minor": 2
}
